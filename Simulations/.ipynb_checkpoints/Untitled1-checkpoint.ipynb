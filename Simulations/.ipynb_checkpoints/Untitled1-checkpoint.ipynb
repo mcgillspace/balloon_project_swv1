{
 "cells": [
  {
   "cell_type": "code",
   "execution_count": 1,
   "metadata": {},
   "outputs": [],
   "source": [
    "import numpy as np\n",
    "from scipy.integrate import odeint\n",
    "import matplotlib.pyplot as plt\n",
    "\n",
    "\n",
    "\"\"\"\n",
    "The ODE we want to solve has the following form:\n",
    "\tg*V*(p_atm-p_He)-(m_b+m_p)*g+(1/2)*p_atm*y'^2*c_d*S = (m_He+m_b+m_p)*y''\n",
    "To solve this second order ODE, we can go a change of variable z=y';\n",
    "\tg*V*(p_atm-p_He)-(m_b+m_p)*g+(1/2)*p_atm*z^2*c_d*S = (m_He+m_b+m_p)*z'\n",
    "\"\"\"\n",
    "\n",
    "#Balloon specs\n",
    "\n",
    "#Radius of the balloon:\n",
    "r =1\n",
    "#Mass of ballon:\n",
    "m_b=1\n",
    "#Mass of payload:\n",
    "m_p=1\n",
    "#Mass of Helium:\n",
    "m_He=1\n",
    "\n",
    "\n",
    "#Physical parameter:\n",
    "\n",
    "#Gravity of the Earth\n",
    "g = 9.81\n",
    "#Volume occupied by the balloon\n",
    "V = (4/3*np.pi*r**3)\n",
    "#density of helium\n",
    "p_He=0.178     #kg/m^3\n",
    "#density of air:\n",
    "p_atm=1.2 #kg/m^3\n",
    "#Reynold's constant\n",
    "c_d=1\n",
    "#Area of balloon\n",
    "S=5"
   ]
  },
  {
   "cell_type": "code",
   "execution_count": 2,
   "metadata": {},
   "outputs": [
    {
     "name": "stderr",
     "output_type": "stream",
     "text": [
      "C:\\Users\\joebe\\Anaconda3\\lib\\site-packages\\scipy\\integrate\\odepack.py:236: ODEintWarning: Excess work done on this call (perhaps wrong Dfun type). Run with full_output = 1 to get quantitative information.\n",
      "  warnings.warn(warning_msg, ODEintWarning)\n"
     ]
    },
    {
     "data": {
      "image/png": "[encoded data removed]",
      "text/plain": [
       "<Figure size 432x288 with 1 Axes>"
      ]
     },
     "metadata": {
      "needs_background": "light"
     },
     "output_type": "display_data"
    }
   ],
   "source": [
    "def dU_dx(U,t):\n",
    "\t\"\"\"\n",
    "\tFunction that takes a derivative of the vector U=[y,z]. Therefore, it should return [y',z']\n",
    "\t\"\"\"\n",
    "\treturn [U[1], (g*V*(p_atm-p_He)-(m_b+m_p)*g+(1/2)*p_atm*U[1]**2*c_d*S)/(m_He+m_b+m_p)]\n",
    "\n",
    "\n",
    "m*x''(t) + b*x'(t) + k*x(t)+a*(x(t))^3 = -m*g\n",
    "g*V*(p_atm-p_He)-(m_b+m_p)*g+(1/2)*p_atm*y'^2*c_d*S = (m_He+m_b+m_p)*y''\n",
    "\n",
    "z = [y',y]\n",
    "z'=[y'',y']\n",
    "y''=(g*V*(p_atm-p_He)-(m_b+m_p)*g+(1/2)*p_atm*y'^2*c_d*S)/(m_He+m_b+m_p)\n",
    "z[0]'=y''\n",
    "z[1]' = z[0] \n",
    "#Initial condition\n",
    "U0=[0,0]\n",
    "ts = np.linspace(0,1,200)\n",
    "Us = odeint(dU_dx,U0,ts)\n",
    "ys = Us[:,1]\n",
    "plt.plot(ts,ys)\n",
    "plt.show()"
   ]
  },
  {
   "cell_type": "code",
   "execution_count": null,
   "metadata": {},
   "outputs": [],
   "source": []
  }
 ],
 "metadata": {
  "kernelspec": {
   "display_name": "Python 3",
   "language": "python",
   "name": "python3"
  },
  "language_info": {
   "codemirror_mode": {
    "name": "ipython",
    "version": 3
   },
   "file_extension": ".py",
   "mimetype": "text/x-python",
   "name": "python",
   "nbconvert_exporter": "python",
   "pygments_lexer": "ipython3",
   "version": "3.7.1"
  }
 },
 "nbformat": 4,
 "nbformat_minor": 2
}
