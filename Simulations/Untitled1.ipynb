{
 "cells": [
  {
   "cell_type": "code",
   "execution_count": 31,
   "metadata": {},
   "outputs": [],
   "source": [
    "import numpy as np\n",
    "from scipy.integrate import odeint\n",
    "import matplotlib.pyplot as plt\n",
    "\n",
    "\n",
    "\"\"\"\n",
    "The ODE we want to solve has the following form:\n",
    "\tg*V*(p_atm-p_He)-(m_b+m_p)*g+(1/2)*p_atm*y'^2*c_d*S = (m_He+m_b+m_p)*y''\n",
    "To solve this second order ODE, we can go a change of variable z=y';\n",
    "\tg*V*(p_atm-p_He)-(m_b+m_p)*g+(1/2)*p_atm*z^2*c_d*S = (m_He+m_b+m_p)*z'\n",
    "\"\"\"\n",
    "\n",
    "#Balloon specs\n",
    "\n",
    "#Radius of the balloon:\n",
    "r = 6\n",
    "#Mass of ballon:\n",
    "m_b=0.6\n",
    "#Mass of payload:\n",
    "m_p=0.5\n",
    "\n",
    "\n",
    "\n",
    "#Physical parameter:\n",
    "\n",
    "#Gravity of the Earth\n",
    "g = 9.81\n",
    "#Volume occupied by the balloon\n",
    "V = (4/3*np.pi*r**3)\n",
    "#density of helium\n",
    "p_He=0.178     #kg/m^3\n",
    "#Mass of Helium:\n",
    "m_He=V*p_He\n",
    "#density of air:\n",
    "p_atm=1.2 #kg/m^3\n",
    "#Reynold's constant\n",
    "c_d=1\n",
    "#Area of balloon\n",
    "S=4*np.pi*r**2"
   ]
  },
  {
   "cell_type": "code",
   "execution_count": 41,
   "metadata": {},
   "outputs": [
    {
     "data": {
      "image/png": "[encoded data removed]",
      "text/plain": [
       "<Figure size 432x288 with 1 Axes>"
      ]
     },
     "metadata": {
      "needs_background": "light"
     },
     "output_type": "display_data"
    }
   ],
   "source": [
    "def d(z,t):\n",
    "\t\"\"\"\n",
    "\tFunction that takes a derivative of the vector U=[y,z]. Therefore, it should return [y',z']\n",
    "\t\"\"\"\n",
    "\treturn np.array(((g*V*(p_atm-p_He)-(m_b+m_p)*g+(1/2)*p_atm*z[0]**2*c_d*S)/(m_He+m_b+m_p),\n",
    "                    z[0]\n",
    "                   ))\n",
    "\n",
    "                     \n",
    "#Initial condition\n",
    "U0=[0,0]\n",
    "ts = np.linspace(0,0.2,100)\n",
    "_, y = odeint(d,U0,ts).T\n",
    "plt.plot(ts,y)\n",
    "plt.show()"
   ]
  },
  {
   "cell_type": "code",
   "execution_count": null,
   "metadata": {},
   "outputs": [],
   "source": []
  }
 ],
 "metadata": {
  "kernelspec": {
   "display_name": "Python 3",
   "language": "python",
   "name": "python3"
  },
  "language_info": {
   "codemirror_mode": {
    "name": "ipython",
    "version": 3
   },
   "file_extension": ".py",
   "mimetype": "text/x-python",
   "name": "python",
   "nbconvert_exporter": "python",
   "pygments_lexer": "ipython3",
   "version": "3.7.1"
  }
 },
 "nbformat": 4,
 "nbformat_minor": 2
}
